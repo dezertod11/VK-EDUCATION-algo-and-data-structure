{
 "cells": [
  {
   "cell_type": "markdown",
   "id": "9a5c98eb",
   "metadata": {},
   "source": [
    "Массивы\n",
    "=\n",
    "\n",
    "Выполнил Мальнев Александр\n",
    "\n"
   ]
  },
  {
   "cell_type": "markdown",
   "id": "03f1cbaa",
   "metadata": {},
   "source": [
    "1.Развернуть массив\n",
    "-"
   ]
  },
  {
   "cell_type": "code",
   "execution_count": 40,
   "id": "88d65df3",
   "metadata": {},
   "outputs": [
    {
     "name": "stdout",
     "output_type": "stream",
     "text": [
      "init arr: [1, 2, 3, 4, 5, 6, 7, 8]\n",
      "reverse arr [8, 7, 6, 5, 4, 3, 2, 1]\n",
      "reverse from left=1 to right=6 [1, 7, 6, 5, 4, 3, 2, 8]\n"
     ]
    }
   ],
   "source": [
    "from Seminar_1_1 import reverseArray\n",
    "arr = [1,2,3,4,5,6,7,8]\n",
    "print(\"init arr:\", arr)\n",
    "reverseArray(arr, 0, len(arr)-1)\n",
    "print(\"reverse arr\", arr)\n",
    "reverseArray(arr, 0, len(arr)-1)\n",
    "left, right = 1, len(arr) - 2\n",
    "reverseArray(arr, left, right)\n",
    "print(\"reverse from left={} to right={}\".format(left, right), arr)"
   ]
  },
  {
   "cell_type": "markdown",
   "id": "02c2dd68",
   "metadata": {},
   "source": [
    "2.Развернуть часть массива\n",
    "-"
   ]
  },
  {
   "cell_type": "code",
   "execution_count": 41,
   "id": "3d2d2f3b",
   "metadata": {},
   "outputs": [
    {
     "name": "stdout",
     "output_type": "stream",
     "text": [
      "init arr: [1, 2, 3, 4, 5, 6, 7, 8]\n",
      "final arr(k=0) [1, 2, 3, 4, 5, 6, 7, 8]\n",
      "final arr(k=4) [5, 6, 7, 8, 1, 2, 3, 4]\n"
     ]
    }
   ],
   "source": [
    "from Seminar_1_1 import solution\n",
    "arr = [1,2,3,4,5,6,7,8]\n",
    "print(\"init arr:\", arr)\n",
    "k = 0\n",
    "solution(arr, k)\n",
    "print(\"final arr(k={})\".format(k), arr)\n",
    "k = 4\n",
    "solution(arr, k)\n",
    "print(\"final arr(k={})\".format(k), arr)"
   ]
  },
  {
   "cell_type": "markdown",
   "id": "25ba496d",
   "metadata": {},
   "source": [
    "3.Слияние двух отсортированных массивов\n",
    "-"
   ]
  },
  {
   "cell_type": "code",
   "execution_count": 52,
   "id": "2e4feb9e",
   "metadata": {},
   "outputs": [
    {
     "name": "stdout",
     "output_type": "stream",
     "text": [
      "[1, 1, 2, 3, 4, 5, 5, 6, 6, 7, 7, 8, 8, 10]\n"
     ]
    }
   ],
   "source": [
    "from Seminar_1_2 import merge_sorted_arrays\n",
    "arr1 = [1,2,3,4,5,6,7,8]\n",
    "arr2 = [1,5,6,7,8,10]\n",
    "merged_array = merge_sorted_arrays(arr1,arr2)\n",
    "print(merged_array)"
   ]
  },
  {
   "cell_type": "markdown",
   "id": "988c47fa",
   "metadata": {},
   "source": [
    "4.Слияние двух отсортированных массивов без дополнительной памяти\n",
    "-"
   ]
  },
  {
   "cell_type": "code",
   "execution_count": 66,
   "id": "593242ba",
   "metadata": {},
   "outputs": [
    {
     "name": "stdout",
     "output_type": "stream",
     "text": [
      "[1, 1, 2, 3, 3, 4, 5, 6]\n"
     ]
    }
   ],
   "source": [
    "from Seminar_1_3 import merge_sorted_arrays\n",
    "arr1 = [1,2,3,4,5,6, None, None]\n",
    "arr2 = [1,3]\n",
    "merge = merge_sorted_arrays(arr1, arr2)\n",
    "print(merge)"
   ]
  },
  {
   "cell_type": "markdown",
   "id": "f8189306",
   "metadata": {},
   "source": [
    "5.Передвинуть четные числа вперед\n",
    "-"
   ]
  },
  {
   "cell_type": "code",
   "execution_count": 73,
   "id": "e8f4b7e3",
   "metadata": {},
   "outputs": [
    {
     "ename": "ImportError",
     "evalue": "cannot import name 'move_even_to_front' from 'Seminar_1_4' (C:\\Users\\malne\\PycharmProjects\\VK Education\\Project 1\\Seminar_1_4.py)",
     "output_type": "error",
     "traceback": [
      "\u001b[1;31m---------------------------------------------------------------------------\u001b[0m",
      "\u001b[1;31mImportError\u001b[0m                               Traceback (most recent call last)",
      "\u001b[1;32m~\\AppData\\Local\\Temp/ipykernel_21428/2585269856.py\u001b[0m in \u001b[0;36m<module>\u001b[1;34m\u001b[0m\n\u001b[1;32m----> 1\u001b[1;33m \u001b[1;32mfrom\u001b[0m \u001b[0mSeminar_1_4\u001b[0m \u001b[1;32mimport\u001b[0m \u001b[0mmove_even_to_front\u001b[0m\u001b[1;33m\u001b[0m\u001b[1;33m\u001b[0m\u001b[0m\n\u001b[0m\u001b[0;32m      2\u001b[0m \u001b[0marr\u001b[0m \u001b[1;33m=\u001b[0m \u001b[1;33m[\u001b[0m\u001b[1;36m1\u001b[0m\u001b[1;33m,\u001b[0m\u001b[1;36m2\u001b[0m\u001b[1;33m,\u001b[0m\u001b[1;36m3\u001b[0m\u001b[1;33m,\u001b[0m\u001b[1;36m4\u001b[0m\u001b[1;33m,\u001b[0m\u001b[1;36m5\u001b[0m\u001b[1;33m,\u001b[0m\u001b[1;36m6\u001b[0m\u001b[1;33m,\u001b[0m\u001b[1;36m0\u001b[0m\u001b[1;33m,\u001b[0m\u001b[1;36m0\u001b[0m\u001b[1;33m]\u001b[0m\u001b[1;33m\u001b[0m\u001b[1;33m\u001b[0m\u001b[0m\n\u001b[0;32m      3\u001b[0m \u001b[0mmoved_even\u001b[0m \u001b[1;33m=\u001b[0m \u001b[0mmove_even_to_front\u001b[0m\u001b[1;33m(\u001b[0m\u001b[0marr\u001b[0m\u001b[1;33m)\u001b[0m\u001b[1;33m\u001b[0m\u001b[1;33m\u001b[0m\u001b[0m\n\u001b[0;32m      4\u001b[0m \u001b[0mprint\u001b[0m\u001b[1;33m(\u001b[0m\u001b[0mmoved_even\u001b[0m\u001b[1;33m)\u001b[0m\u001b[1;33m\u001b[0m\u001b[1;33m\u001b[0m\u001b[0m\n",
      "\u001b[1;31mImportError\u001b[0m: cannot import name 'move_even_to_front' from 'Seminar_1_4' (C:\\Users\\malne\\PycharmProjects\\VK Education\\Project 1\\Seminar_1_4.py)"
     ]
    }
   ],
   "source": [
    "from Seminar_1_4 import move_even_to_front\n",
    "arr = [1,2,3,4,5,6,0,0]\n",
    "moved_even = move_even_to_front(arr)\n",
    "print(moved_even)"
   ]
  },
  {
   "cell_type": "markdown",
   "id": "9bd5b49c",
   "metadata": {},
   "source": [
    "Homework.Передвинуть нули в конец"
   ]
  },
  {
   "cell_type": "code",
   "execution_count": 71,
   "id": "80248c2c",
   "metadata": {},
   "outputs": [
    {
     "ename": "NameError",
     "evalue": "name 'merged_array' is not defined",
     "output_type": "error",
     "traceback": [
      "\u001b[1;31m---------------------------------------------------------------------------\u001b[0m",
      "\u001b[1;31mNameError\u001b[0m                                 Traceback (most recent call last)",
      "\u001b[1;32m~\\AppData\\Local\\Temp/ipykernel_21428/2297301666.py\u001b[0m in \u001b[0;36m<module>\u001b[1;34m\u001b[0m\n\u001b[1;32m----> 1\u001b[1;33m \u001b[1;32mfrom\u001b[0m \u001b[0mHW_1\u001b[0m \u001b[1;32mimport\u001b[0m \u001b[0mmove_null_to_end\u001b[0m\u001b[1;33m\u001b[0m\u001b[1;33m\u001b[0m\u001b[0m\n\u001b[0m\u001b[0;32m      2\u001b[0m \u001b[0marr\u001b[0m \u001b[1;33m=\u001b[0m \u001b[1;33m[\u001b[0m\u001b[1;36m1\u001b[0m\u001b[1;33m,\u001b[0m\u001b[1;36m2\u001b[0m\u001b[1;33m,\u001b[0m\u001b[1;36m0\u001b[0m\u001b[1;33m,\u001b[0m\u001b[1;36m3\u001b[0m\u001b[1;33m,\u001b[0m\u001b[1;36m4\u001b[0m\u001b[1;33m,\u001b[0m\u001b[1;36m5\u001b[0m\u001b[1;33m,\u001b[0m\u001b[1;36m6\u001b[0m\u001b[1;33m,\u001b[0m\u001b[1;36m0\u001b[0m\u001b[1;33m]\u001b[0m\u001b[1;33m\u001b[0m\u001b[1;33m\u001b[0m\u001b[0m\n\u001b[0;32m      3\u001b[0m \u001b[0mmoved_null\u001b[0m \u001b[1;33m=\u001b[0m \u001b[0mmove_null_to_end\u001b[0m\u001b[1;33m(\u001b[0m\u001b[0marr\u001b[0m\u001b[1;33m)\u001b[0m\u001b[1;33m\u001b[0m\u001b[1;33m\u001b[0m\u001b[0m\n\u001b[0;32m      4\u001b[0m \u001b[0mprint\u001b[0m\u001b[1;33m(\u001b[0m\u001b[0mmerged_array\u001b[0m\u001b[1;33m)\u001b[0m\u001b[1;33m\u001b[0m\u001b[1;33m\u001b[0m\u001b[0m\n",
      "\u001b[1;32m~\\PycharmProjects\\VK Education\\Project 1\\HW_1.py\u001b[0m in \u001b[0;36m<module>\u001b[1;34m\u001b[0m\n\u001b[0;32m     21\u001b[0m \u001b[0marr\u001b[0m \u001b[1;33m=\u001b[0m \u001b[1;33m[\u001b[0m\u001b[1;36m1\u001b[0m\u001b[1;33m,\u001b[0m\u001b[1;36m2\u001b[0m\u001b[1;33m,\u001b[0m\u001b[1;36m0\u001b[0m\u001b[1;33m,\u001b[0m\u001b[1;36m3\u001b[0m\u001b[1;33m,\u001b[0m\u001b[1;36m4\u001b[0m\u001b[1;33m,\u001b[0m\u001b[1;36m5\u001b[0m\u001b[1;33m,\u001b[0m\u001b[1;36m6\u001b[0m\u001b[1;33m,\u001b[0m\u001b[1;36m0\u001b[0m\u001b[1;33m]\u001b[0m\u001b[1;33m\u001b[0m\u001b[1;33m\u001b[0m\u001b[0m\n\u001b[0;32m     22\u001b[0m \u001b[0mmoved_null\u001b[0m \u001b[1;33m=\u001b[0m \u001b[0mmove_null_to_end\u001b[0m\u001b[1;33m(\u001b[0m\u001b[0marr\u001b[0m\u001b[1;33m)\u001b[0m\u001b[1;33m\u001b[0m\u001b[1;33m\u001b[0m\u001b[0m\n\u001b[1;32m---> 23\u001b[1;33m \u001b[0mprint\u001b[0m\u001b[1;33m(\u001b[0m\u001b[0mmerged_array\u001b[0m\u001b[1;33m)\u001b[0m\u001b[1;33m\u001b[0m\u001b[1;33m\u001b[0m\u001b[0m\n\u001b[0m",
      "\u001b[1;31mNameError\u001b[0m: name 'merged_array' is not defined"
     ]
    }
   ],
   "source": [
    "from HW_1 import move_null_to_end\n",
    "arr = [1,2,0,3,4,5,6,0]\n",
    "moved_null = move_null_to_end(arr)\n",
    "print(merged_array)"
   ]
  },
  {
   "cell_type": "code",
   "execution_count": null,
   "id": "8b1f3621",
   "metadata": {},
   "outputs": [],
   "source": []
  }
 ],
 "metadata": {
  "kernelspec": {
   "display_name": "Python 3 (ipykernel)",
   "language": "python",
   "name": "python3"
  },
  "language_info": {
   "codemirror_mode": {
    "name": "ipython",
    "version": 3
   },
   "file_extension": ".py",
   "mimetype": "text/x-python",
   "name": "python",
   "nbconvert_exporter": "python",
   "pygments_lexer": "ipython3",
   "version": "3.9.7"
  }
 },
 "nbformat": 4,
 "nbformat_minor": 5
}
