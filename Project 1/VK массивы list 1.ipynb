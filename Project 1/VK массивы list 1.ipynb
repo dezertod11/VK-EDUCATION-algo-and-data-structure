{
 "cells": [
  {
   "cell_type": "markdown",
   "id": "aa6aee15",
   "metadata": {},
   "source": [
    "Массивы\n",
    "=\n",
    "\n",
    "Выполнил Мальнев Александр\n",
    "\n"
   ]
  },
  {
   "cell_type": "markdown",
   "id": "ebaf2d27",
   "metadata": {},
   "source": [
    "1.Развернуть массив\n",
    "-"
   ]
  },
  {
   "cell_type": "code",
   "execution_count": 7,
   "id": "401a2edb",
   "metadata": {
    "scrolled": true
   },
   "outputs": [
    {
     "name": "stdout",
     "output_type": "stream",
     "text": [
      "init arr: [1, 2, 3, 4, 5, 6, 7, 8]\n",
      "reverse arr [8, 7, 6, 5, 4, 3, 2, 1]\n",
      "reverse from left=1 to right=6 [1, 7, 6, 5, 4, 3, 2, 8]\n"
     ]
    }
   ],
   "source": [
    "from Seminar_1_1 import reverseArray\n",
    "arr = [1,2,3,4,5,6,7,8]\n",
    "print(\"init arr:\", arr)\n",
    "reverseArray(arr, 0, len(arr)-1)\n",
    "print(\"reverse arr\", arr)\n",
    "reverseArray(arr, 0, len(arr)-1)\n",
    "left, right = 1, len(arr) - 2\n",
    "reverseArray(arr, left, right)\n",
    "print(\"reverse from left={} to right={}\".format(left, right), arr)"
   ]
  },
  {
   "cell_type": "markdown",
   "id": "e9275d7c",
   "metadata": {},
   "source": [
    "2.Развернуть часть массива\n",
    "-"
   ]
  },
  {
   "cell_type": "code",
   "execution_count": 13,
   "id": "7c656338",
   "metadata": {},
   "outputs": [
    {
     "name": "stdout",
     "output_type": "stream",
     "text": [
      "init arr: [1, 2, 3, 4, 5, 6, 7, 8]\n",
      "final arr(k=0) [1, 2, 3, 4, 5, 6, 7, 8]\n",
      "final arr(k=4) [5, 6, 7, 8, 1, 2, 3, 4]\n"
     ]
    }
   ],
   "source": [
    "from Seminar_1_1 import solution\n",
    "arr = [1,2,3,4,5,6,7,8]\n",
    "print(\"init arr:\", arr)\n",
    "k = 0\n",
    "solution(arr, k)\n",
    "print(\"final arr(k={})\".format(k), arr)\n",
    "k = 4\n",
    "solution(arr, k)\n",
    "print(\"final arr(k={})\".format(k), arr)"
   ]
  },
  {
   "cell_type": "markdown",
   "id": "af070633",
   "metadata": {},
   "source": [
    "3.Слияние двух отсортированных массивов\n",
    "-"
   ]
  },
  {
   "cell_type": "code",
   "execution_count": 14,
   "id": "849e0b07",
   "metadata": {},
   "outputs": [
    {
     "name": "stdout",
     "output_type": "stream",
     "text": [
      "[1, 1, 2, 3, 4, 5, 5, 6, 6, 7, 7, 8, 8, 10]\n"
     ]
    }
   ],
   "source": [
    "from Seminar_1_2 import merge_sorted_arrays\n",
    "arr1 = [1,2,3,4,5,6,7,8]\n",
    "arr2 = [1,5,6,7,8,10]\n",
    "merged_array = merge_sorted_arrays(arr1,arr2)\n",
    "print(merged_array)"
   ]
  },
  {
   "cell_type": "markdown",
   "id": "906a900a",
   "metadata": {},
   "source": [
    "4.Слияние двух отсортированных массивов без дополнительной памяти\n",
    "-"
   ]
  },
  {
   "cell_type": "code",
   "execution_count": 17,
   "id": "040eac3d",
   "metadata": {},
   "outputs": [
    {
     "name": "stdout",
     "output_type": "stream",
     "text": [
      "[1, 1, 2, 3, 3, 4, 5, 6]\n"
     ]
    }
   ],
   "source": [
    "del merge_sorted_arrays\n",
    "from Seminar_1_3 import merge_sorted_arrays\n",
    "arr1 = [1,2,3,4,5,6,None,None]\n",
    "arr2 = [1,3]\n",
    "merge = merge_sorted_arrays(arr1, arr2)\n",
    "print(merge)"
   ]
  },
  {
   "cell_type": "markdown",
   "id": "d8be73a1",
   "metadata": {},
   "source": [
    "5.Передвинуть четные числа вперед\n",
    "-"
   ]
  },
  {
   "cell_type": "code",
   "execution_count": 11,
   "id": "a6a87706",
   "metadata": {},
   "outputs": [
    {
     "name": "stdout",
     "output_type": "stream",
     "text": [
      "[2, 4, 0, 6, 0, 0, 1, 3, 5]\n"
     ]
    }
   ],
   "source": [
    "from Seminar_1_4 import pppp\n",
    "arr = [1,2,3,4,0,5,6,0,0]\n",
    "pppp(arr)\n",
    "print(arr)"
   ]
  },
  {
   "cell_type": "markdown",
   "id": "66c0c3de",
   "metadata": {},
   "source": [
    "Homework.Передвинуть нули в конец\n",
    "-"
   ]
  },
  {
   "cell_type": "code",
   "execution_count": 19,
   "id": "97f94434",
   "metadata": {},
   "outputs": [
    {
     "name": "stdout",
     "output_type": "stream",
     "text": [
      "[2, 6, 5, 4, 3, 1, 0, 0]\n"
     ]
    }
   ],
   "source": [
    "from HW_1 import move_null_to_end\n",
    "arr = [1,2,0,3,4,5,6,0]\n",
    "moved_null = move_null_to_end(arr)\n",
    "print(moved_null)"
   ]
  },
  {
   "cell_type": "code",
   "execution_count": null,
   "id": "aaf94b37",
   "metadata": {},
   "outputs": [],
   "source": []
  },
  {
   "cell_type": "code",
   "execution_count": null,
   "id": "64c7ff3b",
   "metadata": {},
   "outputs": [],
   "source": []
  },
  {
   "cell_type": "code",
   "execution_count": null,
   "id": "c179d892",
   "metadata": {},
   "outputs": [],
   "source": []
  }
 ],
 "metadata": {
  "kernelspec": {
   "display_name": "Python 3 (ipykernel)",
   "language": "python",
   "name": "python3"
  },
  "language_info": {
   "codemirror_mode": {
    "name": "ipython",
    "version": 3
   },
   "file_extension": ".py",
   "mimetype": "text/x-python",
   "name": "python",
   "nbconvert_exporter": "python",
   "pygments_lexer": "ipython3",
   "version": "3.9.7"
  }
 },
 "nbformat": 4,
 "nbformat_minor": 5
}
