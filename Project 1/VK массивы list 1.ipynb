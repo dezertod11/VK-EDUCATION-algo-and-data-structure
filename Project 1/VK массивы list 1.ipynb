{
 "cells": [
  {
   "cell_type": "markdown",
   "id": "ef3884d2",
   "metadata": {},
   "source": [
    "Массивы\n",
    "=\n",
    "\n",
    "Выполнил Мальнев Александр\n",
    "\n"
   ]
  },
  {
   "cell_type": "markdown",
   "id": "b33f722b",
   "metadata": {},
   "source": [
    "1.Развернуть массив\n",
    "-"
   ]
  },
  {
   "cell_type": "code",
   "execution_count": 40,
   "id": "3316dff8",
   "metadata": {},
   "outputs": [
    {
     "name": "stdout",
     "output_type": "stream",
     "text": [
      "init arr: [1, 2, 3, 4, 5, 6, 7, 8]\n",
      "reverse arr [8, 7, 6, 5, 4, 3, 2, 1]\n",
      "reverse from left=1 to right=6 [1, 7, 6, 5, 4, 3, 2, 8]\n"
     ]
    }
   ],
   "source": [
    "from Seminar_1_1 import reverseArray\n",
    "arr = [1,2,3,4,5,6,7,8]\n",
    "print(\"init arr:\", arr)\n",
    "reverseArray(arr, 0, len(arr)-1)\n",
    "print(\"reverse arr\", arr)\n",
    "reverseArray(arr, 0, len(arr)-1)\n",
    "left, right = 1, len(arr) - 2\n",
    "reverseArray(arr, left, right)\n",
    "print(\"reverse from left={} to right={}\".format(left, right), arr)"
   ]
  },
  {
   "cell_type": "markdown",
   "id": "cc071f46",
   "metadata": {},
   "source": [
    "2.Развернуть часть массива\n",
    "-"
   ]
  },
  {
   "cell_type": "code",
   "execution_count": 41,
   "id": "3c937e86",
   "metadata": {},
   "outputs": [
    {
     "name": "stdout",
     "output_type": "stream",
     "text": [
      "init arr: [1, 2, 3, 4, 5, 6, 7, 8]\n",
      "final arr(k=0) [1, 2, 3, 4, 5, 6, 7, 8]\n",
      "final arr(k=4) [5, 6, 7, 8, 1, 2, 3, 4]\n"
     ]
    }
   ],
   "source": [
    "from Seminar_1_1 import solution\n",
    "arr = [1,2,3,4,5,6,7,8]\n",
    "print(\"init arr:\", arr)\n",
    "k = 0\n",
    "solution(arr, k)\n",
    "print(\"final arr(k={})\".format(k), arr)\n",
    "k = 4\n",
    "solution(arr, k)\n",
    "print(\"final arr(k={})\".format(k), arr)"
   ]
  },
  {
   "cell_type": "markdown",
   "id": "d5601823",
   "metadata": {},
   "source": [
    "3.Слияние двух отсортированных массивов\n",
    "-"
   ]
  },
  {
   "cell_type": "code",
   "execution_count": 52,
   "id": "2aa59437",
   "metadata": {},
   "outputs": [
    {
     "name": "stdout",
     "output_type": "stream",
     "text": [
      "[1, 1, 2, 3, 4, 5, 5, 6, 6, 7, 7, 8, 8, 10]\n"
     ]
    }
   ],
   "source": [
    "from Seminar_1_2 import merge_sorted_arrays\n",
    "arr1 = [1,2,3,4,5,6,7,8]\n",
    "arr2 = [1,5,6,7,8,10]\n",
    "merged_array = merge_sorted_arrays(arr1,arr2)\n",
    "print(merged_array)"
   ]
  },
  {
   "cell_type": "markdown",
   "id": "5a4bf158",
   "metadata": {},
   "source": [
    "4.Слияние двух отсортированных массивов без дополнительной памяти\n",
    "-"
   ]
  },
  {
   "cell_type": "code",
   "execution_count": 66,
   "id": "e66b106f",
   "metadata": {},
   "outputs": [
    {
     "name": "stdout",
     "output_type": "stream",
     "text": [
      "[1, 1, 2, 3, 3, 4, 5, 6]\n"
     ]
    }
   ],
   "source": [
    "from Seminar_1_3 import merge_sorted_arrays\n",
    "arr1 = [1,2,3,4,5,6, None, None]\n",
    "arr2 = [1,3]\n",
    "merge = merge_sorted_arrays(arr1, arr2)\n",
    "print(merge)"
   ]
  },
  {
   "cell_type": "markdown",
   "id": "b9a83113",
   "metadata": {},
   "source": [
    "5.Передвинуть четные числа вперед\n",
    "-"
   ]
  },
  {
   "cell_type": "code",
   "execution_count": 67,
   "id": "3fd30e5d",
   "metadata": {},
   "outputs": [
    {
     "ename": "TypeError",
     "evalue": "merge_sorted_arrays() missing 1 required positional argument: 'arr2'",
     "output_type": "error",
     "traceback": [
      "\u001b[1;31m---------------------------------------------------------------------------\u001b[0m",
      "\u001b[1;31mTypeError\u001b[0m                                 Traceback (most recent call last)",
      "\u001b[1;32m~\\AppData\\Local\\Temp/ipykernel_21428/3710299161.py\u001b[0m in \u001b[0;36m<module>\u001b[1;34m\u001b[0m\n\u001b[0;32m      1\u001b[0m \u001b[0marr\u001b[0m \u001b[1;33m=\u001b[0m \u001b[1;33m[\u001b[0m\u001b[1;36m1\u001b[0m\u001b[1;33m,\u001b[0m\u001b[1;36m2\u001b[0m\u001b[1;33m,\u001b[0m\u001b[1;36m3\u001b[0m\u001b[1;33m,\u001b[0m\u001b[1;36m4\u001b[0m\u001b[1;33m,\u001b[0m\u001b[1;36m5\u001b[0m\u001b[1;33m,\u001b[0m\u001b[1;36m6\u001b[0m\u001b[1;33m,\u001b[0m\u001b[1;36m0\u001b[0m\u001b[1;33m,\u001b[0m\u001b[1;36m0\u001b[0m\u001b[1;33m]\u001b[0m\u001b[1;33m\u001b[0m\u001b[1;33m\u001b[0m\u001b[0m\n\u001b[1;32m----> 2\u001b[1;33m \u001b[0mmerged_array\u001b[0m \u001b[1;33m=\u001b[0m \u001b[0mmerge_sorted_arrays\u001b[0m\u001b[1;33m(\u001b[0m\u001b[0marr\u001b[0m\u001b[1;33m)\u001b[0m\u001b[1;33m\u001b[0m\u001b[1;33m\u001b[0m\u001b[0m\n\u001b[0m\u001b[0;32m      3\u001b[0m \u001b[0mprint\u001b[0m\u001b[1;33m(\u001b[0m\u001b[0mmerged_array\u001b[0m\u001b[1;33m)\u001b[0m\u001b[1;33m\u001b[0m\u001b[1;33m\u001b[0m\u001b[0m\n",
      "\u001b[1;31mTypeError\u001b[0m: merge_sorted_arrays() missing 1 required positional argument: 'arr2'"
     ]
    }
   ],
   "source": [
    "arr = [1,2,3,4,5,6,0,0]\n",
    "merged_array = merge_sorted_arrays(arr)\n",
    "print(merged_array)"
   ]
  },
  {
   "cell_type": "code",
   "execution_count": null,
   "id": "e87ea4f0",
   "metadata": {},
   "outputs": [],
   "source": []
  }
 ],
 "metadata": {
  "kernelspec": {
   "display_name": "Python 3 (ipykernel)",
   "language": "python",
   "name": "python3"
  },
  "language_info": {
   "codemirror_mode": {
    "name": "ipython",
    "version": 3
   },
   "file_extension": ".py",
   "mimetype": "text/x-python",
   "name": "python",
   "nbconvert_exporter": "python",
   "pygments_lexer": "ipython3",
   "version": "3.9.7"
  }
 },
 "nbformat": 4,
 "nbformat_minor": 5
}
