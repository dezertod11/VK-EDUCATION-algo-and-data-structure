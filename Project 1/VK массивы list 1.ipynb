{
 "cells": [
  {
   "cell_type": "markdown",
   "id": "d1632264",
   "metadata": {},
   "source": [
    "Массивы\n",
    "=\n",
    "\n",
    "Выполнил Мальнев Александр\n",
    "\n"
   ]
  },
  {
   "cell_type": "markdown",
   "id": "c68adc23",
   "metadata": {},
   "source": [
    "1.Развернуть массив\n",
    "-"
   ]
  },
  {
   "cell_type": "code",
   "execution_count": 40,
   "id": "625ae4f6",
   "metadata": {},
   "outputs": [
    {
     "name": "stdout",
     "output_type": "stream",
     "text": [
      "init arr: [1, 2, 3, 4, 5, 6, 7, 8]\n",
      "reverse arr [8, 7, 6, 5, 4, 3, 2, 1]\n",
      "reverse from left=1 to right=6 [1, 7, 6, 5, 4, 3, 2, 8]\n"
     ]
    }
   ],
   "source": [
    "from Seminar_1_1 import reverseArray\n",
    "arr = [1,2,3,4,5,6,7,8]\n",
    "print(\"init arr:\", arr)\n",
    "reverseArray(arr, 0, len(arr)-1)\n",
    "print(\"reverse arr\", arr)\n",
    "reverseArray(arr, 0, len(arr)-1)\n",
    "left, right = 1, len(arr) - 2\n",
    "reverseArray(arr, left, right)\n",
    "print(\"reverse from left={} to right={}\".format(left, right), arr)"
   ]
  },
  {
   "cell_type": "markdown",
   "id": "61efd33d",
   "metadata": {},
   "source": [
    "2.Развернуть часть массива\n",
    "-"
   ]
  },
  {
   "cell_type": "code",
   "execution_count": 41,
   "id": "ae1d159f",
   "metadata": {},
   "outputs": [
    {
     "name": "stdout",
     "output_type": "stream",
     "text": [
      "init arr: [1, 2, 3, 4, 5, 6, 7, 8]\n",
      "final arr(k=0) [1, 2, 3, 4, 5, 6, 7, 8]\n",
      "final arr(k=4) [5, 6, 7, 8, 1, 2, 3, 4]\n"
     ]
    }
   ],
   "source": [
    "from Seminar_1_1 import solution\n",
    "arr = [1,2,3,4,5,6,7,8]\n",
    "print(\"init arr:\", arr)\n",
    "k = 0\n",
    "solution(arr, k)\n",
    "print(\"final arr(k={})\".format(k), arr)\n",
    "k = 4\n",
    "solution(arr, k)\n",
    "print(\"final arr(k={})\".format(k), arr)"
   ]
  },
  {
   "cell_type": "markdown",
   "id": "26759214",
   "metadata": {},
   "source": [
    "3.Слияние двух отсортированных массивов\n",
    "-"
   ]
  },
  {
   "cell_type": "code",
   "execution_count": 52,
   "id": "6082db12",
   "metadata": {},
   "outputs": [
    {
     "name": "stdout",
     "output_type": "stream",
     "text": [
      "[1, 1, 2, 3, 4, 5, 5, 6, 6, 7, 7, 8, 8, 10]\n"
     ]
    }
   ],
   "source": [
    "from Seminar_1_2 import merge_sorted_arrays\n",
    "arr1 = [1,2,3,4,5,6,7,8]\n",
    "arr2 = [1,5,6,7,8,10]\n",
    "merged_array = merge_sorted_arrays(arr1,arr2)\n",
    "print(merged_array)"
   ]
  },
  {
   "cell_type": "markdown",
   "id": "8cd0751f",
   "metadata": {},
   "source": [
    "4.Слияние двух отсортированных массивов без дополнительной памяти\n",
    "-"
   ]
  },
  {
   "cell_type": "code",
   "execution_count": 66,
   "id": "956d4dcc",
   "metadata": {},
   "outputs": [
    {
     "name": "stdout",
     "output_type": "stream",
     "text": [
      "[1, 1, 2, 3, 3, 4, 5, 6]\n"
     ]
    }
   ],
   "source": [
    "from Seminar_1_3 import merge_sorted_arrays\n",
    "arr1 = [1,2,3,4,5,6, None, None]\n",
    "arr2 = [1,3]\n",
    "merge = merge_sorted_arrays(arr1, arr2)\n",
    "print(merge)"
   ]
  },
  {
   "cell_type": "markdown",
   "id": "02826134",
   "metadata": {},
   "source": [
    "5.Передвинуть четные числа вперед\n",
    "-"
   ]
  },
  {
   "cell_type": "code",
   "execution_count": 69,
   "id": "911c9c82",
   "metadata": {},
   "outputs": [
    {
     "name": "stdout",
     "output_type": "stream",
     "text": [
      "[2, 4, 6, 0, 0, 3, 1, 5]\n",
      "[2, 4, 6, 0, 0, 3, 1, 5]\n"
     ]
    }
   ],
   "source": [
    "from Seminar_1_4 import move_even_to_front\n",
    "arr = [1,2,3,4,5,6,0,0]\n",
    "moved_even = move_even_to_front(arr)\n",
    "print(moved_even)"
   ]
  },
  {
   "cell_type": "code",
   "execution_count": null,
   "id": "d8111360",
   "metadata": {},
   "outputs": [],
   "source": [
    "Homework."
   ]
  },
  {
   "cell_type": "code",
   "execution_count": null,
   "id": "e7c2f507",
   "metadata": {},
   "outputs": [],
   "source": []
  }
 ],
 "metadata": {
  "kernelspec": {
   "display_name": "Python 3 (ipykernel)",
   "language": "python",
   "name": "python3"
  },
  "language_info": {
   "codemirror_mode": {
    "name": "ipython",
    "version": 3
   },
   "file_extension": ".py",
   "mimetype": "text/x-python",
   "name": "python",
   "nbconvert_exporter": "python",
   "pygments_lexer": "ipython3",
   "version": "3.9.7"
  }
 },
 "nbformat": 4,
 "nbformat_minor": 5
}
