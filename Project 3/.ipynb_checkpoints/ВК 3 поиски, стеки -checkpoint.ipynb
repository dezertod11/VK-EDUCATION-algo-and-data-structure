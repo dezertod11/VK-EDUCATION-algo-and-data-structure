{
 "cells": [
  {
   "cell_type": "markdown",
   "id": "d14b54d6",
   "metadata": {},
   "source": [
    "Поиск, стеки\n",
    "=\n",
    "\n",
    "Выполнил Мальнев Александр"
   ]
  },
  {
   "cell_type": "markdown",
   "id": "6a15e860",
   "metadata": {},
   "source": [
    "1 Очень лёгкая задача \n",
    "-"
   ]
  },
  {
   "cell_type": "code",
   "execution_count": 1,
   "id": "c8b3d1d8",
   "metadata": {
    "scrolled": true
   },
   "outputs": [
    {
     "name": "stdout",
     "output_type": "stream",
     "text": [
      "1\n",
      "2.0\n",
      "3.0\n",
      "3.0\n",
      "4.0\n",
      "5.0\n",
      "5.0\n",
      "6.0\n",
      "7.0\n",
      "\n",
      "7.0\n"
     ]
    }
   ],
   "source": [
    "from Seminar_3_1 import copy_time\n",
    "\n",
    "print(copy_time(1,1,2))\n",
    "print(copy_time(2,1,2))\n",
    "print(copy_time(3,1,2))\n",
    "print(copy_time(4,1,2))\n",
    "print(copy_time(5,1,2))\n",
    "print(copy_time(6,1,2))\n",
    "print(copy_time(7,1,2))\n",
    "print(copy_time(8,1,2))\n",
    "print(copy_time(9,1,2))\n",
    "print()\n",
    "print(copy_time(9,1,3))"
   ]
  },
  {
   "cell_type": "markdown",
   "id": "0fb7e844",
   "metadata": {},
   "source": [
    "2 Является ли одна строка подпоследовательностью другой строки\n",
    "-"
   ]
  },
  {
   "cell_type": "code",
   "execution_count": 2,
   "id": "f25ac73f",
   "metadata": {
    "scrolled": true
   },
   "outputs": [
    {
     "name": "stdout",
     "output_type": "stream",
     "text": [
      "With queue:\n",
      "uio - quefio : True\n",
      "aaa - ababaas : True\n",
      "cccc - dddd : False\n"
     ]
    }
   ],
   "source": [
    "from Seminar_3_2 import is_subsequence_queue\n",
    "\n",
    "print(\"With queue:\")\n",
    "a = list(\"uio\")\n",
    "b = list(\"quefio\")\n",
    "print(''.join(a),\"-\",''.join(b),\":\",is_subsequence_queue(a,b))\n",
    "\n",
    "aaa = list(\"aaa\")\n",
    "ababa = list(\"ababaas\")\n",
    "print(''.join(aaa),\"-\",''.join(ababa),\":\",is_subsequence_queue(aaa,ababa))\n",
    "\n",
    "c = list(\"cccc\")\n",
    "d = list(\"dddd\")\n",
    "print(''.join(c),\"-\",''.join(d),\":\",is_subsequence_queue(c,d))\n"
   ]
  },
  {
   "cell_type": "code",
   "execution_count": 3,
   "id": "2fac4dd4",
   "metadata": {},
   "outputs": [],
   "source": [
    "from Seminar_3_2 import is_subsequence_pointer"
   ]
  },
  {
   "cell_type": "code",
   "execution_count": 4,
   "id": "f791308b",
   "metadata": {},
   "outputs": [
    {
     "name": "stdout",
     "output_type": "stream",
     "text": [
      "With pointer:\n",
      "uio - quefio : True\n",
      "aaa - ababaas : True\n",
      "cccc - dddd : False\n"
     ]
    }
   ],
   "source": [
    "print(\"With pointer:\")\n",
    "print(''.join(a),\"-\",''.join(b),\":\",is_subsequence_pointer(a,b))\n",
    "\n",
    "aaa = list(\"aaa\")\n",
    "ababa = list(\"ababaas\")\n",
    "print(''.join(aaa),\"-\",''.join(ababa),\":\",is_subsequence_pointer(aaa,ababa))\n",
    "\n",
    "c = list(\"cccc\")\n",
    "d = list(\"dddd\")\n",
    "print(''.join(c),\"-\",''.join(d),\":\",is_subsequence_pointer(c,d))"
   ]
  },
  {
   "cell_type": "markdown",
   "id": "3f69a1ee",
   "metadata": {},
   "source": [
    "3 Найти корень числа (ближайшее целое)\n",
    "-"
   ]
  },
  {
   "cell_type": "code",
   "execution_count": 5,
   "id": "881b00b7",
   "metadata": {
    "scrolled": true
   },
   "outputs": [
    {
     "name": "stdout",
     "output_type": "stream",
     "text": [
      "1.0 1\n",
      "\n",
      "1.41 1\n",
      "\n",
      "1.73 2\n",
      "\n",
      "2.0 2\n",
      "\n",
      "2.24 2\n",
      "\n",
      "2.45 2\n",
      "\n",
      "2.65 3\n",
      "\n",
      "2.83 3\n",
      "\n",
      "3.0 3\n",
      "\n",
      "3.16 3\n",
      "\n",
      "3.32 3\n",
      "\n",
      "3.46 3\n",
      "\n",
      "3.61 4\n",
      "\n",
      "3.74 4\n",
      "\n",
      "3.87 4\n",
      "\n",
      "4.0 4\n",
      "\n",
      "4.12 4\n",
      "\n",
      "4.24 4\n",
      "\n",
      "4.36 4\n",
      "\n",
      "4.47 4\n",
      "\n",
      "4.58 5\n",
      "\n",
      "4.69 5\n",
      "\n",
      "4.8 5\n",
      "\n",
      "4.9 5\n",
      "\n",
      "5.0 5\n",
      "\n",
      "5.1 5\n",
      "\n",
      "5.2 5\n",
      "\n",
      "5.29 5\n",
      "\n",
      "5.39 5\n",
      "\n",
      "5.48 5\n",
      "\n",
      "5.57 6\n",
      "\n",
      "5.66 6\n",
      "\n",
      "5.74 6\n",
      "\n",
      "5.83 6\n",
      "\n",
      "5.92 6\n",
      "\n",
      "6.0 6\n",
      "\n",
      "6.08 6\n",
      "\n",
      "6.16 6\n",
      "\n",
      "6.24 6\n",
      "\n",
      "6.32 6\n",
      "\n",
      "6.4 6\n",
      "\n",
      "6.48 6\n",
      "\n",
      "6.56 7\n",
      "\n",
      "6.63 7\n",
      "\n",
      "6.71 7\n",
      "\n",
      "6.78 7\n",
      "\n",
      "6.86 7\n",
      "\n",
      "6.93 7\n",
      "\n",
      "7.0 7\n",
      "\n",
      "22.36 22\n",
      "\n",
      "22.38 22\n",
      "\n",
      "22.41 22\n",
      "\n",
      "22.43 22\n",
      "\n",
      "22.45 22\n",
      "\n",
      "22.47 22\n",
      "\n",
      "22.49 22\n",
      "\n",
      "22.52 23\n",
      "\n",
      "22.54 23\n",
      "\n",
      "22.56 23\n",
      "\n",
      "22.58 23\n",
      "\n",
      "22.61 23\n",
      "\n",
      "22.63 23\n",
      "\n",
      "22.65 23\n",
      "\n",
      "22.67 23\n",
      "\n",
      "22.69 23\n",
      "\n",
      "22.72 23\n",
      "\n",
      "22.74 23\n",
      "\n",
      "22.76 23\n",
      "\n",
      "22.78 23\n",
      "\n",
      "22.8 23\n",
      "\n",
      "22.83 23\n",
      "\n",
      "22.85 23\n",
      "\n",
      "22.87 23\n",
      "\n",
      "22.89 23\n",
      "\n",
      "22.91 23\n",
      "\n",
      "22.93 23\n",
      "\n",
      "22.96 23\n",
      "\n",
      "22.98 23\n",
      "\n",
      "23.0 23\n",
      "\n",
      "23.02 23\n",
      "\n",
      "23.04 23\n",
      "\n",
      "23.07 23\n",
      "\n",
      "23.09 23\n",
      "\n",
      "23.11 23\n",
      "\n",
      "23.13 23\n",
      "\n",
      "23.15 23\n",
      "\n",
      "23.17 23\n",
      "\n",
      "23.19 23\n",
      "\n",
      "23.22 23\n",
      "\n",
      "23.24 23\n",
      "\n",
      "23.26 23\n",
      "\n",
      "23.28 23\n",
      "\n",
      "23.3 23\n",
      "\n",
      "23.32 23\n",
      "\n",
      "23.35 23\n",
      "\n",
      "23.37 23\n",
      "\n",
      "23.39 23\n",
      "\n",
      "23.41 23\n",
      "\n",
      "23.43 23\n",
      "\n"
     ]
    }
   ],
   "source": [
    "from Seminar_3_3 import binary_searc_sqrt\n",
    "import math\n",
    "\n",
    "for i in range(1,50):\n",
    "    print(round(math.sqrt(i),2),binary_searc_sqrt(i))\n",
    "    print()\n",
    "\n",
    "for i in range(500,550):\n",
    "    print(round(math.sqrt(i),2),binary_searc_sqrt(i))\n",
    "    print()\n"
   ]
  },
  {
   "cell_type": "markdown",
   "id": "544553b6",
   "metadata": {},
   "source": [
    "4 Является ли слово палиндромом\n",
    "-"
   ]
  },
  {
   "cell_type": "code",
   "execution_count": 10,
   "id": "e749ce95",
   "metadata": {
    "scrolled": true
   },
   "outputs": [
    {
     "name": "stdout",
     "output_type": "stream",
     "text": [
      "abcdefg , sasha ahsas , sosos\n",
      "WIth stack: False True True\n",
      "WIth pointer: False True True\n"
     ]
    }
   ],
   "source": [
    "from Seminar_3_4 import is_palindrome_stack\n",
    "from Seminar_3_4 import is_palindrome_pointer\n",
    "\n",
    "s1 = \"abcdefg\"\n",
    "ss = \"sasha ahsas\"\n",
    "sos = \"sosos\"\n",
    "\n",
    "print(s1,\",\", ss,\",\" ,sos)\n",
    "\n",
    "print(\"WIth stack:\", is_palindrome_stack(s1),is_palindrome_stack(ss),is_palindrome_stack(sos))\n",
    "print(\"WIth pointer:\", is_palindrome_pointer(s1),is_palindrome_pointer(ss),is_palindrome_pointer(sos))\n"
   ]
  },
  {
   "cell_type": "markdown",
   "id": "9695209f",
   "metadata": {},
   "source": [
    "4 Является ли слово палиндромом\n",
    "-"
   ]
  },
  {
   "cell_type": "code",
   "execution_count": 14,
   "id": "b0159109",
   "metadata": {
    "scrolled": true
   },
   "outputs": [
    {
     "name": "stdout",
     "output_type": "stream",
     "text": [
      "cdffd  ->  c\n",
      "uioouiouuo  ->  uiui\n",
      "aassddfff  ->  f\n",
      "abababababa  ->  abababababa\n"
     ]
    }
   ],
   "source": [
    "from HW_3 import remove_same_char\n",
    "\n",
    "s1 = 'cdffd'\n",
    "s2 = \"uioouiouuo\"\n",
    "s3 = \"aassddfff\"\n",
    "s4 = \"abababababa\"\n",
    "\n",
    "print(s1,\" -> \", ''.join(remove_same_char(s1)))\n",
    "print(s2,\" -> \", ''.join(remove_same_char(s2)))\n",
    "print(s3,\" -> \", ''.join(remove_same_char(s3)))\n",
    "print(s4,\" -> \", ''.join(remove_same_char(s4)))"
   ]
  },
  {
   "cell_type": "code",
   "execution_count": null,
   "id": "ef5b87b1",
   "metadata": {},
   "outputs": [],
   "source": []
  },
  {
   "cell_type": "code",
   "execution_count": null,
   "id": "3bc38438",
   "metadata": {},
   "outputs": [],
   "source": []
  },
  {
   "cell_type": "code",
   "execution_count": null,
   "id": "78d1b9e1",
   "metadata": {},
   "outputs": [],
   "source": []
  }
 ],
 "metadata": {
  "kernelspec": {
   "display_name": "Python 3 (ipykernel)",
   "language": "python",
   "name": "python3"
  },
  "language_info": {
   "codemirror_mode": {
    "name": "ipython",
    "version": 3
   },
   "file_extension": ".py",
   "mimetype": "text/x-python",
   "name": "python",
   "nbconvert_exporter": "python",
   "pygments_lexer": "ipython3",
   "version": "3.9.7"
  }
 },
 "nbformat": 4,
 "nbformat_minor": 5
}
