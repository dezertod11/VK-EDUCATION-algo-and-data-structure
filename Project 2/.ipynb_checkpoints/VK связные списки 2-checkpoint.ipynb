{
 "cells": [
  {
   "cell_type": "markdown",
   "id": "de4641e1",
   "metadata": {},
   "source": [
    "Связные списки\n",
    "=\n",
    "\n",
    "Выполнил Мальнев Александр"
   ]
  },
  {
   "cell_type": "markdown",
   "id": "44aeebde",
   "metadata": {},
   "source": [
    "1 Проверить, является ли список циклическим\n",
    "-"
   ]
  },
  {
   "cell_type": "code",
   "execution_count": 13,
   "id": "b1c72338",
   "metadata": {},
   "outputs": [
    {
     "name": "stdout",
     "output_type": "stream",
     "text": [
      "\n",
      "print initial list:\n",
      "1->2->3->4->5->None\n",
      "\n",
      "check whether linked_list is cycle or not:\n",
      "False\n",
      "\n",
      "making linked_list cyclic:\n",
      "\n",
      "check whether linked_list is cycle or not:\n",
      "True\n",
      "\n",
      "print cycle???:\n"
     ]
    }
   ],
   "source": [
    "from Seminar_2_1 import LinkedList\n",
    "\n",
    "linked_list = LinkedList()\n",
    "list = [i for i in range(1, 6)]\n",
    "for i in list[::-1]:\n",
    "    linked_list.append_front(i)\n",
    "\n",
    "print(\"\\nprint initial list:\")\n",
    "linked_list.print_list() # print initial list\n",
    "print(\"\\ncheck whether linked_list is cycle or not:\")\n",
    "print(linked_list.cycle_or_not()) # check whether linked_list is cycle or not\n",
    "print(\"\\nmaking linked_list cyclic:\")\n",
    "linked_list.make_cycle(3) # making linked_list cyclic\n",
    "print(\"\\ncheck whether linked_list is cycle or not:\")\n",
    "print(linked_list.cycle_or_not()) # check whether linked_list is cycle or not\n",
    "print(\"\\nprint cycle???:\")\n",
    "#linked_list.print_list() # print cycle linked_list :)))))\n",
    "\n"
   ]
  },
  {
   "cell_type": "markdown",
   "id": "b1cb77c8",
   "metadata": {},
   "source": [
    "2.Развернуть односвязный список\n",
    "-"
   ]
  },
  {
   "cell_type": "code",
   "execution_count": 17,
   "id": "4b040192",
   "metadata": {
    "scrolled": true
   },
   "outputs": [
    {
     "name": "stdout",
     "output_type": "stream",
     "text": [
      "init linked_list:\n",
      "1->2->3->4->5->6->7->8->9->10->None\n",
      "reversed linked_list:\n",
      "10->9->8->7->6->5->4->3->2->1->None\n"
     ]
    }
   ],
   "source": [
    "from Seminar_2_2 import LinkedList\n",
    "\n",
    "linked_list = LinkedList()\n",
    "list = [i for i in range(1, 11)]\n",
    "for i in list[::-1]:\n",
    "    linked_list.append_front(i)\n",
    "\n",
    "print(\"init linked_list:\")\n",
    "linked_list.print_list()\n",
    "\n",
    "print(\"reversed linked_list:\")\n",
    "linked_list.reverse_linked_list()\n",
    "linked_list.print_list()"
   ]
  },
  {
   "cell_type": "markdown",
   "id": "a9494cb5",
   "metadata": {},
   "source": [
    "3.Найти середину списка\n",
    "-"
   ]
  },
  {
   "cell_type": "code",
   "execution_count": 19,
   "id": "f7cd747d",
   "metadata": {},
   "outputs": [
    {
     "name": "stdout",
     "output_type": "stream",
     "text": [
      "-50->-49->-48->-47->-46->-45->-44->-43->-42->-41->-40->-39->-38->-37->-36->-35->-34->-33->-32->-31->-30->-29->-28->-27->-26->-25->-24->-23->-22->-21->-20->-19->-18->-17->-16->-15->-14->-13->-12->-11->-10->-9->-8->-7->-6->-5->-4->-3->-2->-1->0->1->2->3->4->5->6->7->8->9->10->11->12->13->14->15->16->17->18->19->20->21->22->23->24->25->26->27->28->29->30->31->32->33->34->35->36->37->38->39->40->41->42->43->44->45->46->47->48->49->50->51->52->53->54->55->56->57->58->59->60->61->62->63->64->65->66->67->68->69->70->71->72->73->74->75->76->77->78->79->80->81->82->83->84->85->86->87->88->89->90->91->92->93->94->95->96->97->98->99->None\n",
      "25\n"
     ]
    }
   ],
   "source": [
    "from Seminar_2_3 import LinkedList\n",
    "\n",
    "linked_list = LinkedList()\n",
    "list = [i for i in range(-50, 100)]\n",
    "for i in list[::-1]:\n",
    "    linked_list.append_front(i)\n",
    "\n",
    "linked_list.print_list()\n",
    "print(linked_list.middleNode().get())"
   ]
  },
  {
   "cell_type": "markdown",
   "id": "4e5f1b19",
   "metadata": {},
   "source": [
    "4.Удалить элемент из односвязного списка\n",
    "-"
   ]
  },
  {
   "cell_type": "code",
   "execution_count": 22,
   "id": "387f952f",
   "metadata": {},
   "outputs": [
    {
     "name": "stdout",
     "output_type": "stream",
     "text": [
      "init list:\n",
      "1->2->3->4->5->6->7->8->9->10->None\n",
      "\n",
      "remove value = 1:\n",
      "2->3->4->5->6->7->8->9->10->None\n",
      "\n",
      "remove value = 5:\n",
      "2->3->4->6->7->8->9->10->None\n",
      "\n",
      "remove value = 10:\n",
      "2->3->4->6->7->8->9->None\n",
      "\n",
      "remove value = 11:\n",
      "2->3->4->6->7->8->9->None\n"
     ]
    }
   ],
   "source": [
    "from Seminar_2_4 import LinkedList\n",
    "\n",
    "linked_list = LinkedList()\n",
    "list = [i for i in range(1, 11)]\n",
    "for i in list[::-1]:\n",
    "    linked_list.append_front(i)\n",
    "\n",
    "print(\"init list:\")\n",
    "linked_list.print_list()\n",
    "k = 1\n",
    "print(\"\\nremove value = {}:\".format(k))\n",
    "linked_list.remove_element(k)\n",
    "linked_list.print_list()\n",
    "k = 5\n",
    "print(\"\\nremove value = {}:\".format(k))\n",
    "linked_list.remove_element(k)\n",
    "linked_list.print_list()\n",
    "k = 10\n",
    "print(\"\\nremove value = {}:\".format(k))\n",
    "linked_list.remove_element(k)\n",
    "linked_list.print_list()\n",
    "k = 11\n",
    "print(\"\\nremove value = {}:\".format(k))\n",
    "linked_list.remove_element(k)\n",
    "linked_list.print_list()"
   ]
  },
  {
   "cell_type": "markdown",
   "id": "c7beabdf",
   "metadata": {},
   "source": [
    "HW.Слияние двух отсортированных списков\n",
    "-"
   ]
  },
  {
   "cell_type": "code",
   "execution_count": 26,
   "id": "36ae2fa6",
   "metadata": {},
   "outputs": [
    {
     "name": "stdout",
     "output_type": "stream",
     "text": [
      "\n",
      "linked_list1:\n",
      "1->3->5->7->9->None\n",
      "\n",
      "linked_list2:\n",
      "6->8->10->12->14->None\n",
      "\n",
      "merged_linked_list:\n",
      "1->3->5->6->7->8->9->10->12->14->None\n"
     ]
    }
   ],
   "source": [
    "from HW_2 import LinkedList\n",
    "from HW_2 import merge_sorted_linked_list\n",
    "\n",
    "\n",
    "linked_list = LinkedList()\n",
    "list = [i for i in range(1, 11)]\n",
    "for i in list[::-1]:\n",
    "    linked_list.append_front(i)\n",
    "\n",
    "\n",
    "linked_list1 = LinkedList()\n",
    "list1 = [i for i in range(1, 11, 2)]\n",
    "for i in list1[::-1]:\n",
    "    linked_list1.append_front(i)\n",
    "print(\"\\nlinked_list1:\")\n",
    "linked_list1.print_list()\n",
    "\n",
    "linked_list2 = LinkedList()\n",
    "list2 = [i for i in range(6, 16, 2)]\n",
    "for i in list2[::-1]:\n",
    "    linked_list2.append_front(i)\n",
    "print(\"\\nlinked_list2:\")\n",
    "linked_list2.print_list()\n",
    "\n",
    "merge_linked_list = merge_sorted_linked_list(linked_list1, linked_list2)\n",
    "print(\"\\nmerged_linked_list:\")\n",
    "merge_linked_list.print_list()"
   ]
  },
  {
   "cell_type": "code",
   "execution_count": null,
   "id": "d2876541",
   "metadata": {},
   "outputs": [],
   "source": []
  },
  {
   "cell_type": "code",
   "execution_count": null,
   "id": "5476146d",
   "metadata": {},
   "outputs": [],
   "source": []
  }
 ],
 "metadata": {
  "kernelspec": {
   "display_name": "Python 3 (ipykernel)",
   "language": "python",
   "name": "python3"
  },
  "language_info": {
   "codemirror_mode": {
    "name": "ipython",
    "version": 3
   },
   "file_extension": ".py",
   "mimetype": "text/x-python",
   "name": "python",
   "nbconvert_exporter": "python",
   "pygments_lexer": "ipython3",
   "version": "3.9.7"
  }
 },
 "nbformat": 4,
 "nbformat_minor": 5
}
